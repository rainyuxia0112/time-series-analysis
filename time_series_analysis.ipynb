{
 "cells": [
  {
   "cell_type": "code",
   "execution_count": 1,
   "metadata": {},
   "outputs": [],
   "source": [
    "import pandas as pd\n",
    "import numpy as np"
   ]
  },
  {
   "cell_type": "code",
   "execution_count": 2,
   "metadata": {},
   "outputs": [
    {
     "data": {
      "text/plain": [
       "DatetimeIndex(['2016-07-01', '2016-07-02', '2016-07-03', '2016-07-04',\n",
       "               '2016-07-05', '2016-07-06', '2016-07-07', '2016-07-08',\n",
       "               '2016-07-09', '2016-07-10'],\n",
       "              dtype='datetime64[ns]', freq='D')"
      ]
     },
     "execution_count": 2,
     "metadata": {},
     "output_type": "execute_result"
    }
   ],
   "source": [
    "# times\n",
    "rng = pd.date_range('2016 Jul 1', periods = 10, freq = 'D')\n",
    "rng"
   ]
  },
  {
   "cell_type": "code",
   "execution_count": 5,
   "metadata": {},
   "outputs": [],
   "source": [
    "rng = pd.date_range('7/1/2016', periods = 10, freq = 'D')"
   ]
  },
  {
   "cell_type": "code",
   "execution_count": 6,
   "metadata": {},
   "outputs": [
    {
     "data": {
      "text/plain": [
       "DatetimeIndex(['2016-07-01', '2016-07-02', '2016-07-03', '2016-07-04',\n",
       "               '2016-07-05', '2016-07-06', '2016-07-07', '2016-07-08',\n",
       "               '2016-07-09', '2016-07-10'],\n",
       "              dtype='datetime64[ns]', freq='D')"
      ]
     },
     "execution_count": 6,
     "metadata": {},
     "output_type": "execute_result"
    }
   ],
   "source": [
    "rng"
   ]
  },
  {
   "cell_type": "code",
   "execution_count": 12,
   "metadata": {},
   "outputs": [
    {
     "data": {
      "text/plain": [
       "Period('2016-01-01', 'D')"
      ]
     },
     "execution_count": 12,
     "metadata": {},
     "output_type": "execute_result"
    }
   ],
   "source": [
    "# time spans\n",
    "pd.Period('2016-1-1')"
   ]
  },
  {
   "cell_type": "code",
   "execution_count": 10,
   "metadata": {},
   "outputs": [
    {
     "data": {
      "text/plain": [
       "Timedelta('1 days 00:00:00')"
      ]
     },
     "execution_count": 10,
     "metadata": {},
     "output_type": "execute_result"
    }
   ],
   "source": [
    "# TIME OFFSET\n",
    "pd.Timedelta('1 day')  # 时间段"
   ]
  },
  {
   "cell_type": "code",
   "execution_count": 11,
   "metadata": {},
   "outputs": [
    {
     "data": {
      "text/plain": [
       "Timestamp('2016-01-01 10:10:00')"
      ]
     },
     "execution_count": 11,
     "metadata": {},
     "output_type": "execute_result"
    }
   ],
   "source": [
    "pd.Timestamp('2016-01-01 10:10')"
   ]
  },
  {
   "cell_type": "code",
   "execution_count": 13,
   "metadata": {},
   "outputs": [
    {
     "data": {
      "text/plain": [
       "PeriodIndex(['2016-01-01', '2016-01-04', '2016-01-05', '2016-01-06',\n",
       "             '2016-01-07', '2016-01-08', '2016-01-11', '2016-01-12',\n",
       "             '2016-01-13', '2016-01-14'],\n",
       "            dtype='period[B]', freq='B')"
      ]
     },
     "execution_count": 13,
     "metadata": {},
     "output_type": "execute_result"
    }
   ],
   "source": [
    "# FANCY FREQUENCY SETTING\n",
    "# Only want business days\n",
    "pd.period_range('2016-01-01 10:10', freq = 'B', periods = 10)"
   ]
  },
  {
   "cell_type": "code",
   "execution_count": 14,
   "metadata": {},
   "outputs": [],
   "source": [
    "# It's possible to combine frequencies. What if you want to advance by 25 hours each day. What are the 2 ways to do it?\n",
    "p1 = pd.period_range('2016-01-01', freq = '25H', periods = 10)"
   ]
  },
  {
   "cell_type": "code",
   "execution_count": 15,
   "metadata": {},
   "outputs": [
    {
     "data": {
      "text/plain": [
       "PeriodIndex(['2016-01-01 00:00', '2016-01-02 01:00', '2016-01-03 02:00',\n",
       "             '2016-01-04 03:00', '2016-01-05 04:00', '2016-01-06 05:00',\n",
       "             '2016-01-07 06:00', '2016-01-08 07:00', '2016-01-09 08:00',\n",
       "             '2016-01-10 09:00'],\n",
       "            dtype='period[25H]', freq='25H')"
      ]
     },
     "execution_count": 15,
     "metadata": {},
     "output_type": "execute_result"
    }
   ],
   "source": [
    "p1"
   ]
  },
  {
   "cell_type": "code",
   "execution_count": 41,
   "metadata": {},
   "outputs": [],
   "source": [
    "# 构造一个series index\n",
    "rng = pd.date_range('2016 Jul 1', periods = 10, freq = '30D')  \n",
    "# 起始点不一定包含，如果是按照month，就是july 31开始，是按照month来\n",
    "ts = pd.Series(range(10), index = rng)"
   ]
  },
  {
   "cell_type": "code",
   "execution_count": 29,
   "metadata": {},
   "outputs": [],
   "source": [
    "# 把一个index 变成 series\n",
    "#rng.to_series() "
   ]
  },
  {
   "cell_type": "code",
   "execution_count": 30,
   "metadata": {},
   "outputs": [],
   "source": [
    "#ts.reset_index(name = 'time')"
   ]
  },
  {
   "cell_type": "code",
   "execution_count": 42,
   "metadata": {},
   "outputs": [
    {
     "data": {
      "text/plain": [
       "2016-07-01    0\n",
       "2016-07-31    1\n",
       "2016-08-30    2\n",
       "2016-09-29    3\n",
       "2016-10-29    4\n",
       "2016-11-28    5\n",
       "2016-12-28    6\n",
       "Freq: 30D, dtype: int64"
      ]
     },
     "execution_count": 42,
     "metadata": {},
     "output_type": "execute_result"
    }
   ],
   "source": [
    "ts['2016']"
   ]
  },
  {
   "cell_type": "markdown",
   "metadata": {},
   "source": [
    "### time zone"
   ]
  },
  {
   "cell_type": "code",
   "execution_count": 44,
   "metadata": {},
   "outputs": [
    {
     "data": {
      "text/plain": [
       "<DstTzInfo 'Europe/London' LMT-1 day, 23:59:00 STD>"
      ]
     },
     "execution_count": 44,
     "metadata": {},
     "output_type": "execute_result"
    }
   ],
   "source": [
    "rng = pd.date_range('3/6/2012 00:00', periods = 15, freq = 'D', tz = 'Europe/London')\n",
    "rng.tz  # time zone"
   ]
  },
  {
   "cell_type": "code",
   "execution_count": 45,
   "metadata": {},
   "outputs": [
    {
     "name": "stdout",
     "output_type": "stream",
     "text": [
      "440\n",
      "592\n",
      "{'Navajo', 'W-SU', 'NZ-CHAT', 'Chile/Continental', 'Australia/West', 'Hongkong', 'EST', 'UCT', 'Atlantic/Faeroe', 'Asia/Tel_Aviv', 'ROK', 'Mexico/BajaSur', 'US/East-Indiana', 'Libya', 'Brazil/West', 'PST8PDT', 'Etc/GMT+12', 'America/Shiprock', 'HST', 'Etc/Zulu', 'GB', 'EET', 'America/Indianapolis', 'Australia/South', 'GMT+0', 'Asia/Chongqing', 'Zulu', 'America/Cordoba', 'GB-Eire', 'Canada/Saskatchewan', 'US/Aleutian', 'Chile/EasterIsland', 'Etc/GMT-1', 'Etc/GMT+8', 'America/Montreal', 'Australia/LHI', 'GMT-0', 'America/Coral_Harbour', 'Egypt', 'Etc/GMT-6', 'Etc/GMT+7', 'Europe/Nicosia', 'Asia/Saigon', 'Etc/GMT+4', 'Poland', 'Etc/GMT+3', 'US/Michigan', 'Singapore', 'Etc/GMT-7', 'Brazil/Acre', 'America/Catamarca', 'America/Porto_Acre', 'Etc/GMT', 'Etc/GMT-3', 'America/Atka', 'Etc/GMT-8', 'Asia/Katmandu', 'America/Knox_IN', 'Asia/Istanbul', 'Etc/GMT-13', 'Australia/NSW', 'America/Mendoza', 'Brazil/East', 'Etc/Universal', 'CET', 'Africa/Asmera', 'Africa/Timbuktu', 'America/Fort_Wayne', 'Europe/Tiraspol', 'Asia/Dacca', 'America/Louisville', 'Etc/GMT+2', 'GMT0', 'Australia/Victoria', 'Australia/ACT', 'Atlantic/Jan_Mayen', 'Japan', 'Etc/GMT-0', 'MST7MDT', 'Australia/Tasmania', 'Europe/Belfast', 'CST6CDT', 'America/Rosario', 'Etc/GMT+6', 'ROC', 'Australia/North', 'Pacific/Truk', 'EST5EDT', 'Asia/Kashgar', 'Etc/GMT+10', 'Asia/Chungking', 'Etc/Greenwich', 'Etc/UTC', 'Iran', 'MET', 'Greenwich', 'Etc/GMT+9', 'Etc/UCT', 'Mexico/General', 'MST', 'Pacific/Samoa', 'Asia/Macao', 'Australia/Yancowinna', 'Etc/GMT+0', 'America/Ensenada', 'Antarctica/South_Pole', 'Pacific/Ponape', 'WET', 'Iceland', 'Etc/GMT-12', 'Kwajalein', 'Turkey', 'Cuba', 'Etc/GMT-11', 'Etc/GMT-4', 'Etc/GMT+1', 'Etc/GMT-10', 'Israel', 'Asia/Calcutta', 'Asia/Rangoon', 'Etc/GMT+11', 'Asia/Harbin', 'America/Jujuy', 'America/Argentina/ComodRivadavia', 'Asia/Ashkhabad', 'Brazil/DeNoronha', 'Universal', 'US/Indiana-Starke', 'Asia/Thimbu', 'Etc/GMT0', 'Mexico/BajaNorte', 'NZ', 'Etc/GMT-5', 'Etc/GMT-14', 'Australia/Canberra', 'America/Buenos_Aires', 'Etc/GMT+5', 'Australia/Queensland', 'Pacific/Johnston', 'Eire', 'Etc/GMT-9', 'US/Samoa', 'Asia/Ujung_Pandang', 'Pacific/Yap', 'Canada/Yukon', 'America/Virgin', 'Jamaica', 'Asia/Ulan_Bator', 'Portugal', 'PRC', 'Etc/GMT-2', 'America/Santa_Isabel'}\n"
     ]
    }
   ],
   "source": [
    "from pytz import common_timezones, all_timezones\n",
    "print(len(common_timezones))\n",
    "print(len(all_timezones))\n",
    "print(set(all_timezones) - set(common_timezones))"
   ]
  },
  {
   "cell_type": "code",
   "execution_count": 66,
   "metadata": {},
   "outputs": [],
   "source": [
    "data = pd.read_fwf(\"http://www.cpc.ncep.noaa.gov/products/precip/CWlink/daily_ao_index/monthly.ao.index.b50.current.ascii\", parse_dates = [[0, 1]], infer_datetime_format = True, header = None)"
   ]
  },
  {
   "cell_type": "code",
   "execution_count": 67,
   "metadata": {},
   "outputs": [
    {
     "data": {
      "text/plain": [
       "Index(['0_1', 2], dtype='object')"
      ]
     },
     "execution_count": 67,
     "metadata": {},
     "output_type": "execute_result"
    }
   ],
   "source": [
    "data.columns"
   ]
  },
  {
   "cell_type": "code",
   "execution_count": 55,
   "metadata": {},
   "outputs": [
    {
     "data": {
      "text/html": [
       "<div>\n",
       "<style scoped>\n",
       "    .dataframe tbody tr th:only-of-type {\n",
       "        vertical-align: middle;\n",
       "    }\n",
       "\n",
       "    .dataframe tbody tr th {\n",
       "        vertical-align: top;\n",
       "    }\n",
       "\n",
       "    .dataframe thead th {\n",
       "        text-align: right;\n",
       "    }\n",
       "</style>\n",
       "<table border=\"1\" class=\"dataframe\">\n",
       "  <thead>\n",
       "    <tr style=\"text-align: right;\">\n",
       "      <th></th>\n",
       "      <th>month</th>\n",
       "      <th>value</th>\n",
       "    </tr>\n",
       "  </thead>\n",
       "  <tbody>\n",
       "    <tr>\n",
       "      <th>0</th>\n",
       "      <td>1950-01-01</td>\n",
       "      <td>-0.060310</td>\n",
       "    </tr>\n",
       "    <tr>\n",
       "      <th>1</th>\n",
       "      <td>1950-02-01</td>\n",
       "      <td>0.626810</td>\n",
       "    </tr>\n",
       "    <tr>\n",
       "      <th>2</th>\n",
       "      <td>1950-03-01</td>\n",
       "      <td>-0.008128</td>\n",
       "    </tr>\n",
       "    <tr>\n",
       "      <th>3</th>\n",
       "      <td>1950-04-01</td>\n",
       "      <td>0.555100</td>\n",
       "    </tr>\n",
       "    <tr>\n",
       "      <th>4</th>\n",
       "      <td>1950-05-01</td>\n",
       "      <td>0.071577</td>\n",
       "    </tr>\n",
       "    <tr>\n",
       "      <th>...</th>\n",
       "      <td>...</td>\n",
       "      <td>...</td>\n",
       "    </tr>\n",
       "    <tr>\n",
       "      <th>836</th>\n",
       "      <td>2019-09-01</td>\n",
       "      <td>0.306200</td>\n",
       "    </tr>\n",
       "    <tr>\n",
       "      <th>837</th>\n",
       "      <td>2019-10-01</td>\n",
       "      <td>-0.082195</td>\n",
       "    </tr>\n",
       "    <tr>\n",
       "      <th>838</th>\n",
       "      <td>2019-11-01</td>\n",
       "      <td>-1.193400</td>\n",
       "    </tr>\n",
       "    <tr>\n",
       "      <th>839</th>\n",
       "      <td>2019-12-01</td>\n",
       "      <td>0.412070</td>\n",
       "    </tr>\n",
       "    <tr>\n",
       "      <th>840</th>\n",
       "      <td>2020-01-01</td>\n",
       "      <td>2.419000</td>\n",
       "    </tr>\n",
       "  </tbody>\n",
       "</table>\n",
       "<p>841 rows × 2 columns</p>\n",
       "</div>"
      ],
      "text/plain": [
       "         month     value\n",
       "0   1950-01-01 -0.060310\n",
       "1   1950-02-01  0.626810\n",
       "2   1950-03-01 -0.008128\n",
       "3   1950-04-01  0.555100\n",
       "4   1950-05-01  0.071577\n",
       "..         ...       ...\n",
       "836 2019-09-01  0.306200\n",
       "837 2019-10-01 -0.082195\n",
       "838 2019-11-01 -1.193400\n",
       "839 2019-12-01  0.412070\n",
       "840 2020-01-01  2.419000\n",
       "\n",
       "[841 rows x 2 columns]"
      ]
     },
     "execution_count": 55,
     "metadata": {},
     "output_type": "execute_result"
    }
   ],
   "source": [
    "#data.rename(columns = {'0_1': \"month\", 2: 'value'})"
   ]
  },
  {
   "cell_type": "code",
   "execution_count": 68,
   "metadata": {},
   "outputs": [],
   "source": [
    "# or 直接改名!!!!!\n",
    "data.columns = ['month', 'value']"
   ]
  },
  {
   "cell_type": "code",
   "execution_count": 69,
   "metadata": {},
   "outputs": [
    {
     "data": {
      "text/html": [
       "<div>\n",
       "<style scoped>\n",
       "    .dataframe tbody tr th:only-of-type {\n",
       "        vertical-align: middle;\n",
       "    }\n",
       "\n",
       "    .dataframe tbody tr th {\n",
       "        vertical-align: top;\n",
       "    }\n",
       "\n",
       "    .dataframe thead th {\n",
       "        text-align: right;\n",
       "    }\n",
       "</style>\n",
       "<table border=\"1\" class=\"dataframe\">\n",
       "  <thead>\n",
       "    <tr style=\"text-align: right;\">\n",
       "      <th></th>\n",
       "      <th>month</th>\n",
       "      <th>value</th>\n",
       "    </tr>\n",
       "  </thead>\n",
       "  <tbody>\n",
       "    <tr>\n",
       "      <th>0</th>\n",
       "      <td>1950-01-01</td>\n",
       "      <td>-0.060310</td>\n",
       "    </tr>\n",
       "    <tr>\n",
       "      <th>1</th>\n",
       "      <td>1950-02-01</td>\n",
       "      <td>0.626810</td>\n",
       "    </tr>\n",
       "    <tr>\n",
       "      <th>2</th>\n",
       "      <td>1950-03-01</td>\n",
       "      <td>-0.008128</td>\n",
       "    </tr>\n",
       "    <tr>\n",
       "      <th>3</th>\n",
       "      <td>1950-04-01</td>\n",
       "      <td>0.555100</td>\n",
       "    </tr>\n",
       "    <tr>\n",
       "      <th>4</th>\n",
       "      <td>1950-05-01</td>\n",
       "      <td>0.071577</td>\n",
       "    </tr>\n",
       "    <tr>\n",
       "      <th>...</th>\n",
       "      <td>...</td>\n",
       "      <td>...</td>\n",
       "    </tr>\n",
       "    <tr>\n",
       "      <th>836</th>\n",
       "      <td>2019-09-01</td>\n",
       "      <td>0.306200</td>\n",
       "    </tr>\n",
       "    <tr>\n",
       "      <th>837</th>\n",
       "      <td>2019-10-01</td>\n",
       "      <td>-0.082195</td>\n",
       "    </tr>\n",
       "    <tr>\n",
       "      <th>838</th>\n",
       "      <td>2019-11-01</td>\n",
       "      <td>-1.193400</td>\n",
       "    </tr>\n",
       "    <tr>\n",
       "      <th>839</th>\n",
       "      <td>2019-12-01</td>\n",
       "      <td>0.412070</td>\n",
       "    </tr>\n",
       "    <tr>\n",
       "      <th>840</th>\n",
       "      <td>2020-01-01</td>\n",
       "      <td>2.419000</td>\n",
       "    </tr>\n",
       "  </tbody>\n",
       "</table>\n",
       "<p>841 rows × 2 columns</p>\n",
       "</div>"
      ],
      "text/plain": [
       "         month     value\n",
       "0   1950-01-01 -0.060310\n",
       "1   1950-02-01  0.626810\n",
       "2   1950-03-01 -0.008128\n",
       "3   1950-04-01  0.555100\n",
       "4   1950-05-01  0.071577\n",
       "..         ...       ...\n",
       "836 2019-09-01  0.306200\n",
       "837 2019-10-01 -0.082195\n",
       "838 2019-11-01 -1.193400\n",
       "839 2019-12-01  0.412070\n",
       "840 2020-01-01  2.419000\n",
       "\n",
       "[841 rows x 2 columns]"
      ]
     },
     "execution_count": 69,
     "metadata": {},
     "output_type": "execute_result"
    }
   ],
   "source": [
    "data"
   ]
  },
  {
   "cell_type": "code",
   "execution_count": 70,
   "metadata": {},
   "outputs": [],
   "source": [
    "# 将其中一个col转成index\n",
    "data.index = data.month"
   ]
  },
  {
   "cell_type": "code",
   "execution_count": 71,
   "metadata": {},
   "outputs": [
    {
     "data": {
      "text/html": [
       "<div>\n",
       "<style scoped>\n",
       "    .dataframe tbody tr th:only-of-type {\n",
       "        vertical-align: middle;\n",
       "    }\n",
       "\n",
       "    .dataframe tbody tr th {\n",
       "        vertical-align: top;\n",
       "    }\n",
       "\n",
       "    .dataframe thead th {\n",
       "        text-align: right;\n",
       "    }\n",
       "</style>\n",
       "<table border=\"1\" class=\"dataframe\">\n",
       "  <thead>\n",
       "    <tr style=\"text-align: right;\">\n",
       "      <th></th>\n",
       "      <th>month</th>\n",
       "      <th>value</th>\n",
       "    </tr>\n",
       "    <tr>\n",
       "      <th>month</th>\n",
       "      <th></th>\n",
       "      <th></th>\n",
       "    </tr>\n",
       "  </thead>\n",
       "  <tbody>\n",
       "    <tr>\n",
       "      <th>1950-01-01</th>\n",
       "      <td>1950-01-01</td>\n",
       "      <td>-0.060310</td>\n",
       "    </tr>\n",
       "    <tr>\n",
       "      <th>1950-02-01</th>\n",
       "      <td>1950-02-01</td>\n",
       "      <td>0.626810</td>\n",
       "    </tr>\n",
       "    <tr>\n",
       "      <th>1950-03-01</th>\n",
       "      <td>1950-03-01</td>\n",
       "      <td>-0.008128</td>\n",
       "    </tr>\n",
       "    <tr>\n",
       "      <th>1950-04-01</th>\n",
       "      <td>1950-04-01</td>\n",
       "      <td>0.555100</td>\n",
       "    </tr>\n",
       "    <tr>\n",
       "      <th>1950-05-01</th>\n",
       "      <td>1950-05-01</td>\n",
       "      <td>0.071577</td>\n",
       "    </tr>\n",
       "    <tr>\n",
       "      <th>...</th>\n",
       "      <td>...</td>\n",
       "      <td>...</td>\n",
       "    </tr>\n",
       "    <tr>\n",
       "      <th>2019-09-01</th>\n",
       "      <td>2019-09-01</td>\n",
       "      <td>0.306200</td>\n",
       "    </tr>\n",
       "    <tr>\n",
       "      <th>2019-10-01</th>\n",
       "      <td>2019-10-01</td>\n",
       "      <td>-0.082195</td>\n",
       "    </tr>\n",
       "    <tr>\n",
       "      <th>2019-11-01</th>\n",
       "      <td>2019-11-01</td>\n",
       "      <td>-1.193400</td>\n",
       "    </tr>\n",
       "    <tr>\n",
       "      <th>2019-12-01</th>\n",
       "      <td>2019-12-01</td>\n",
       "      <td>0.412070</td>\n",
       "    </tr>\n",
       "    <tr>\n",
       "      <th>2020-01-01</th>\n",
       "      <td>2020-01-01</td>\n",
       "      <td>2.419000</td>\n",
       "    </tr>\n",
       "  </tbody>\n",
       "</table>\n",
       "<p>841 rows × 2 columns</p>\n",
       "</div>"
      ],
      "text/plain": [
       "                month     value\n",
       "month                          \n",
       "1950-01-01 1950-01-01 -0.060310\n",
       "1950-02-01 1950-02-01  0.626810\n",
       "1950-03-01 1950-03-01 -0.008128\n",
       "1950-04-01 1950-04-01  0.555100\n",
       "1950-05-01 1950-05-01  0.071577\n",
       "...               ...       ...\n",
       "2019-09-01 2019-09-01  0.306200\n",
       "2019-10-01 2019-10-01 -0.082195\n",
       "2019-11-01 2019-11-01 -1.193400\n",
       "2019-12-01 2019-12-01  0.412070\n",
       "2020-01-01 2020-01-01  2.419000\n",
       "\n",
       "[841 rows x 2 columns]"
      ]
     },
     "execution_count": 71,
     "metadata": {},
     "output_type": "execute_result"
    }
   ],
   "source": [
    "data "
   ]
  },
  {
   "cell_type": "code",
   "execution_count": 72,
   "metadata": {},
   "outputs": [],
   "source": [
    "data = data.drop(columns = 'month')  # 也可以加上index等于什么： index = ？"
   ]
  },
  {
   "cell_type": "code",
   "execution_count": 73,
   "metadata": {},
   "outputs": [
    {
     "data": {
      "text/html": [
       "<div>\n",
       "<style scoped>\n",
       "    .dataframe tbody tr th:only-of-type {\n",
       "        vertical-align: middle;\n",
       "    }\n",
       "\n",
       "    .dataframe tbody tr th {\n",
       "        vertical-align: top;\n",
       "    }\n",
       "\n",
       "    .dataframe thead th {\n",
       "        text-align: right;\n",
       "    }\n",
       "</style>\n",
       "<table border=\"1\" class=\"dataframe\">\n",
       "  <thead>\n",
       "    <tr style=\"text-align: right;\">\n",
       "      <th></th>\n",
       "      <th>value</th>\n",
       "    </tr>\n",
       "    <tr>\n",
       "      <th>month</th>\n",
       "      <th></th>\n",
       "    </tr>\n",
       "  </thead>\n",
       "  <tbody>\n",
       "    <tr>\n",
       "      <th>1950-01-01</th>\n",
       "      <td>-0.060310</td>\n",
       "    </tr>\n",
       "    <tr>\n",
       "      <th>1950-02-01</th>\n",
       "      <td>0.626810</td>\n",
       "    </tr>\n",
       "    <tr>\n",
       "      <th>1950-03-01</th>\n",
       "      <td>-0.008128</td>\n",
       "    </tr>\n",
       "    <tr>\n",
       "      <th>1950-04-01</th>\n",
       "      <td>0.555100</td>\n",
       "    </tr>\n",
       "    <tr>\n",
       "      <th>1950-05-01</th>\n",
       "      <td>0.071577</td>\n",
       "    </tr>\n",
       "    <tr>\n",
       "      <th>...</th>\n",
       "      <td>...</td>\n",
       "    </tr>\n",
       "    <tr>\n",
       "      <th>2019-09-01</th>\n",
       "      <td>0.306200</td>\n",
       "    </tr>\n",
       "    <tr>\n",
       "      <th>2019-10-01</th>\n",
       "      <td>-0.082195</td>\n",
       "    </tr>\n",
       "    <tr>\n",
       "      <th>2019-11-01</th>\n",
       "      <td>-1.193400</td>\n",
       "    </tr>\n",
       "    <tr>\n",
       "      <th>2019-12-01</th>\n",
       "      <td>0.412070</td>\n",
       "    </tr>\n",
       "    <tr>\n",
       "      <th>2020-01-01</th>\n",
       "      <td>2.419000</td>\n",
       "    </tr>\n",
       "  </tbody>\n",
       "</table>\n",
       "<p>841 rows × 1 columns</p>\n",
       "</div>"
      ],
      "text/plain": [
       "               value\n",
       "month               \n",
       "1950-01-01 -0.060310\n",
       "1950-02-01  0.626810\n",
       "1950-03-01 -0.008128\n",
       "1950-04-01  0.555100\n",
       "1950-05-01  0.071577\n",
       "...              ...\n",
       "2019-09-01  0.306200\n",
       "2019-10-01 -0.082195\n",
       "2019-11-01 -1.193400\n",
       "2019-12-01  0.412070\n",
       "2020-01-01  2.419000\n",
       "\n",
       "[841 rows x 1 columns]"
      ]
     },
     "execution_count": 73,
     "metadata": {},
     "output_type": "execute_result"
    }
   ],
   "source": [
    "data"
   ]
  },
  {
   "cell_type": "code",
   "execution_count": 79,
   "metadata": {},
   "outputs": [
    {
     "data": {
      "text/html": [
       "<div>\n",
       "<style scoped>\n",
       "    .dataframe tbody tr th:only-of-type {\n",
       "        vertical-align: middle;\n",
       "    }\n",
       "\n",
       "    .dataframe tbody tr th {\n",
       "        vertical-align: top;\n",
       "    }\n",
       "\n",
       "    .dataframe thead th {\n",
       "        text-align: right;\n",
       "    }\n",
       "</style>\n",
       "<table border=\"1\" class=\"dataframe\">\n",
       "  <thead>\n",
       "    <tr style=\"text-align: right;\">\n",
       "      <th></th>\n",
       "      <th>value</th>\n",
       "    </tr>\n",
       "    <tr>\n",
       "      <th>month</th>\n",
       "      <th></th>\n",
       "    </tr>\n",
       "  </thead>\n",
       "  <tbody>\n",
       "    <tr>\n",
       "      <th>1954-01-01</th>\n",
       "      <td>-0.148290</td>\n",
       "    </tr>\n",
       "    <tr>\n",
       "      <th>1954-02-01</th>\n",
       "      <td>-0.180940</td>\n",
       "    </tr>\n",
       "    <tr>\n",
       "      <th>1954-03-01</th>\n",
       "      <td>0.475720</td>\n",
       "    </tr>\n",
       "    <tr>\n",
       "      <th>1954-04-01</th>\n",
       "      <td>0.511690</td>\n",
       "    </tr>\n",
       "    <tr>\n",
       "      <th>1954-05-01</th>\n",
       "      <td>-1.656100</td>\n",
       "    </tr>\n",
       "    <tr>\n",
       "      <th>...</th>\n",
       "      <td>...</td>\n",
       "    </tr>\n",
       "    <tr>\n",
       "      <th>1966-08-01</th>\n",
       "      <td>-0.945270</td>\n",
       "    </tr>\n",
       "    <tr>\n",
       "      <th>1966-09-01</th>\n",
       "      <td>0.011063</td>\n",
       "    </tr>\n",
       "    <tr>\n",
       "      <th>1966-10-01</th>\n",
       "      <td>-1.076600</td>\n",
       "    </tr>\n",
       "    <tr>\n",
       "      <th>1966-11-01</th>\n",
       "      <td>0.110560</td>\n",
       "    </tr>\n",
       "    <tr>\n",
       "      <th>1966-12-01</th>\n",
       "      <td>-1.401500</td>\n",
       "    </tr>\n",
       "  </tbody>\n",
       "</table>\n",
       "<p>156 rows × 1 columns</p>\n",
       "</div>"
      ],
      "text/plain": [
       "               value\n",
       "month               \n",
       "1954-01-01 -0.148290\n",
       "1954-02-01 -0.180940\n",
       "1954-03-01  0.475720\n",
       "1954-04-01  0.511690\n",
       "1954-05-01 -1.656100\n",
       "...              ...\n",
       "1966-08-01 -0.945270\n",
       "1966-09-01  0.011063\n",
       "1966-10-01 -1.076600\n",
       "1966-11-01  0.110560\n",
       "1966-12-01 -1.401500\n",
       "\n",
       "[156 rows x 1 columns]"
      ]
     },
     "execution_count": 79,
     "metadata": {},
     "output_type": "execute_result"
    }
   ],
   "source": [
    "data.loc['1954': '1966']   #loc 是row名字, col名字，可以slice， iloc是第几行，第几列"
   ]
  },
  {
   "cell_type": "code",
   "execution_count": 88,
   "metadata": {},
   "outputs": [],
   "source": [
    "data_pd = data.to_period(freq=\"M\") # period是当前时间的时间段， freq表示计算到何时"
   ]
  },
  {
   "cell_type": "code",
   "execution_count": 89,
   "metadata": {},
   "outputs": [
    {
     "data": {
      "text/html": [
       "<div>\n",
       "<style scoped>\n",
       "    .dataframe tbody tr th:only-of-type {\n",
       "        vertical-align: middle;\n",
       "    }\n",
       "\n",
       "    .dataframe tbody tr th {\n",
       "        vertical-align: top;\n",
       "    }\n",
       "\n",
       "    .dataframe thead th {\n",
       "        text-align: right;\n",
       "    }\n",
       "</style>\n",
       "<table border=\"1\" class=\"dataframe\">\n",
       "  <thead>\n",
       "    <tr style=\"text-align: right;\">\n",
       "      <th></th>\n",
       "      <th>value</th>\n",
       "    </tr>\n",
       "    <tr>\n",
       "      <th>month</th>\n",
       "      <th></th>\n",
       "    </tr>\n",
       "  </thead>\n",
       "  <tbody>\n",
       "    <tr>\n",
       "      <th>1950-01</th>\n",
       "      <td>-0.060310</td>\n",
       "    </tr>\n",
       "    <tr>\n",
       "      <th>1950-02</th>\n",
       "      <td>0.626810</td>\n",
       "    </tr>\n",
       "    <tr>\n",
       "      <th>1950-03</th>\n",
       "      <td>-0.008128</td>\n",
       "    </tr>\n",
       "    <tr>\n",
       "      <th>1950-04</th>\n",
       "      <td>0.555100</td>\n",
       "    </tr>\n",
       "    <tr>\n",
       "      <th>1950-05</th>\n",
       "      <td>0.071577</td>\n",
       "    </tr>\n",
       "    <tr>\n",
       "      <th>...</th>\n",
       "      <td>...</td>\n",
       "    </tr>\n",
       "    <tr>\n",
       "      <th>2019-09</th>\n",
       "      <td>0.306200</td>\n",
       "    </tr>\n",
       "    <tr>\n",
       "      <th>2019-10</th>\n",
       "      <td>-0.082195</td>\n",
       "    </tr>\n",
       "    <tr>\n",
       "      <th>2019-11</th>\n",
       "      <td>-1.193400</td>\n",
       "    </tr>\n",
       "    <tr>\n",
       "      <th>2019-12</th>\n",
       "      <td>0.412070</td>\n",
       "    </tr>\n",
       "    <tr>\n",
       "      <th>2020-01</th>\n",
       "      <td>2.419000</td>\n",
       "    </tr>\n",
       "  </tbody>\n",
       "</table>\n",
       "<p>841 rows × 1 columns</p>\n",
       "</div>"
      ],
      "text/plain": [
       "            value\n",
       "month            \n",
       "1950-01 -0.060310\n",
       "1950-02  0.626810\n",
       "1950-03 -0.008128\n",
       "1950-04  0.555100\n",
       "1950-05  0.071577\n",
       "...           ...\n",
       "2019-09  0.306200\n",
       "2019-10 -0.082195\n",
       "2019-11 -1.193400\n",
       "2019-12  0.412070\n",
       "2020-01  2.419000\n",
       "\n",
       "[841 rows x 1 columns]"
      ]
     },
     "execution_count": 89,
     "metadata": {},
     "output_type": "execute_result"
    }
   ],
   "source": [
    "data_pd "
   ]
  },
  {
   "cell_type": "markdown",
   "metadata": {},
   "source": [
    "### resampling data"
   ]
  },
  {
   "cell_type": "code",
   "execution_count": 92,
   "metadata": {},
   "outputs": [
    {
     "data": {
      "text/plain": [
       "2011-01-01 00:00:00    0.004627\n",
       "2011-01-01 01:00:00   -0.645989\n",
       "2011-01-01 02:00:00   -1.829647\n",
       "2011-01-01 03:00:00    1.059143\n",
       "2011-01-01 04:00:00   -0.176171\n",
       "                         ...   \n",
       "2011-01-03 19:00:00    0.205914\n",
       "2011-01-03 20:00:00   -0.866894\n",
       "2011-01-03 21:00:00   -0.925265\n",
       "2011-01-03 22:00:00    0.887075\n",
       "2011-01-03 23:00:00   -1.201496\n",
       "Freq: H, Length: 72, dtype: float64"
      ]
     },
     "execution_count": 92,
     "metadata": {},
     "output_type": "execute_result"
    }
   ],
   "source": [
    "# asfreq()进行频度转换。\n",
    "rng = pd.date_range('1/1/2011', periods=72, freq='H')\n",
    "ts = pd.Series(np.random.randn(len(rng)), index=rng)\n",
    "ts"
   ]
  },
  {
   "cell_type": "code",
   "execution_count": 94,
   "metadata": {},
   "outputs": [
    {
     "data": {
      "text/plain": [
       "2011-01-01 00:00:00    0.004627\n",
       "2011-01-01 00:45:00         NaN\n",
       "2011-01-01 01:30:00         NaN\n",
       "2011-01-01 02:15:00         NaN\n",
       "2011-01-01 03:00:00    1.059143\n",
       "                         ...   \n",
       "2011-01-03 19:30:00         NaN\n",
       "2011-01-03 20:15:00         NaN\n",
       "2011-01-03 21:00:00   -0.925265\n",
       "2011-01-03 21:45:00         NaN\n",
       "2011-01-03 22:30:00         NaN\n",
       "Freq: 45T, Length: 95, dtype: float64"
      ]
     },
     "execution_count": 94,
     "metadata": {},
     "output_type": "execute_result"
    }
   ],
   "source": [
    "ts.asfreq('45Min')  # 这样的话，就是只有同一个时间的才会被拿下来"
   ]
  },
  {
   "cell_type": "code",
   "execution_count": 97,
   "metadata": {},
   "outputs": [
    {
     "data": {
      "text/plain": [
       "2011-01-01 00:00:00    0.004627\n",
       "2011-01-01 00:45:00    0.004627\n",
       "2011-01-01 01:30:00   -0.645989\n",
       "2011-01-01 02:15:00   -1.829647\n",
       "2011-01-01 03:00:00    1.059143\n",
       "                         ...   \n",
       "2011-01-03 19:30:00    0.205914\n",
       "2011-01-03 20:15:00   -0.866894\n",
       "2011-01-03 21:00:00   -0.925265\n",
       "2011-01-03 21:45:00   -0.925265\n",
       "2011-01-03 22:30:00    0.887075\n",
       "Freq: 45T, Length: 95, dtype: float64"
      ]
     },
     "execution_count": 97,
     "metadata": {},
     "output_type": "execute_result"
    }
   ],
   "source": [
    "ts.asfreq('45Min', method = 'pad')"
   ]
  },
  {
   "cell_type": "code",
   "execution_count": 102,
   "metadata": {},
   "outputs": [
    {
     "data": {
      "text/plain": [
       "2011-01-01 00:00:00   -0.317607\n",
       "2011-01-01 05:00:00   -0.119920\n",
       "2011-01-01 10:00:00    0.496380\n",
       "2011-01-01 15:00:00   -0.748757\n",
       "2011-01-01 20:00:00    0.435788\n",
       "2011-01-02 01:00:00    0.020081\n",
       "2011-01-02 06:00:00    0.210062\n",
       "2011-01-02 11:00:00    0.293256\n",
       "2011-01-02 16:00:00   -0.117613\n",
       "2011-01-02 21:00:00    0.167042\n",
       "2011-01-03 02:00:00    0.273997\n",
       "2011-01-03 07:00:00    0.510227\n",
       "2011-01-03 12:00:00    0.659467\n",
       "2011-01-03 17:00:00   -0.388031\n",
       "2011-01-03 22:00:00   -0.157210\n",
       "Freq: 5H, dtype: float64"
      ]
     },
     "execution_count": 102,
     "metadata": {},
     "output_type": "execute_result"
    }
   ],
   "source": [
    "# resample 是按照day/别的时间 aggregate\n",
    "ts.resample('5h').mean()"
   ]
  },
  {
   "cell_type": "code",
   "execution_count": null,
   "metadata": {},
   "outputs": [],
   "source": []
  }
 ],
 "metadata": {
  "kernelspec": {
   "display_name": "Python 3",
   "language": "python",
   "name": "python3"
  },
  "language_info": {
   "codemirror_mode": {
    "name": "ipython",
    "version": 3
   },
   "file_extension": ".py",
   "mimetype": "text/x-python",
   "name": "python",
   "nbconvert_exporter": "python",
   "pygments_lexer": "ipython3",
   "version": "3.7.6"
  }
 },
 "nbformat": 4,
 "nbformat_minor": 2
}
